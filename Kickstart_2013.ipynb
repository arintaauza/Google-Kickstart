{
  "nbformat": 4,
  "nbformat_minor": 0,
  "metadata": {
    "colab": {
      "name": "Kickstart 2013.ipynb",
      "provenance": [],
      "authorship_tag": "ABX9TyO8uyS4fLXQnoOinQKyYR1A",
      "include_colab_link": true
    },
    "kernelspec": {
      "display_name": "Python 3",
      "name": "python3"
    },
    "language_info": {
      "name": "python"
    }
  },
  "cells": [
    {
      "cell_type": "markdown",
      "metadata": {
        "id": "view-in-github",
        "colab_type": "text"
      },
      "source": [
        "<a href=\"https://colab.research.google.com/github/arintaauza/Google-Kickstart/blob/main/Kickstart_2013.ipynb\" target=\"_parent\"><img src=\"https://colab.research.google.com/assets/colab-badge.svg\" alt=\"Open In Colab\"/></a>"
      ]
    },
    {
      "cell_type": "code",
      "metadata": {
        "id": "TOBXGM5sUIpg"
      },
      "source": [
        "T=int(input())\n",
        "A=[]\n",
        "for t in range(1,T+1):\n",
        "    N,B=[int(s) for s in input().split(\" \")]\n",
        "    A=list(map(int, input().split()))\n",
        "    count=0\n",
        "    A.sort()\n",
        "    for i in range(len(A)):\n",
        "        if(B>=A[i]):\n",
        "            B=B-A[i]\n",
        "            count+=1\n",
        "    print(\"Case #{}: {}\".format(t,count))\n",
        "    A.clear()"
      ],
      "execution_count": null,
      "outputs": []
    },
    {
      "cell_type": "markdown",
      "metadata": {
        "id": "u2bb95fJh4Zv"
      },
      "source": [
        "# Sorting"
      ]
    },
    {
      "cell_type": "code",
      "metadata": {
        "colab": {
          "base_uri": "https://localhost:8080/"
        },
        "id": "fvV2foKTULHZ",
        "outputId": "05092b6f-40eb-489e-c986-bcc9cb518bae"
      },
      "source": [
        "#idx of even number\n",
        "#idx of odd number\n",
        "\n",
        "\n",
        "T = int(input()) #number of test case\n",
        "\n",
        "for t in range (1, T+1):\n",
        "  N = int(input()) #number of books\n",
        "  A=list(map(int, input().split()))\n",
        "  Alex_idx =[]\n",
        "  Alex = []\n",
        "  Bob_idx = []\n",
        "  Bob = []\n",
        "\n",
        "  for i in range(N):\n",
        "    if A[i]%2 == 0:\n",
        "      Bob_idx.append(i)\n",
        "      Bob.append(A[i])\n",
        "    else:\n",
        "      Alex_idx.append(i)\n",
        "      Alex.append(A[i])\n",
        "  Bob.sort(reverse=True)\n",
        "  Alex.sort()\n",
        "\n",
        "  for i in range(len(Alex)):\n",
        "    A[Alex_idx[i]] = Alex[i]\n",
        "\n",
        "  for i in range(len(Bob)):\n",
        "    A[Bob_idx[i]] = Bob[i]\n",
        "  \n",
        "  listToStr = ' '.join([str(elem) for elem in A])\n",
        "\n",
        "  print(\"Case #{}: {}\".format(t,listToStr))\n",
        "  A.clear()"
      ],
      "execution_count": null,
      "outputs": [
        {
          "output_type": "stream",
          "text": [
            "2\n",
            "5\n",
            "5 1 2 4 3\n",
            "Case #1: 1 3 4 2 5\n",
            "7\n",
            "0 2 5 6 3 1 8\n",
            "Case #2: 8 6 1 2 3 5 0\n"
          ],
          "name": "stdout"
        }
      ]
    },
    {
      "cell_type": "markdown",
      "metadata": {
        "id": "i6MjMhzLh9Ze"
      },
      "source": [
        "# Read phone number\n",
        "\n",
        "3\n",
        "\n",
        "15012233444 3-4-4\n",
        "\n",
        "15012233444 3-3-5\n",
        "\n",
        "12223 2-3\n",
        "\n",
        "\n",
        "\n",
        "idx = 0\n",
        "run while idx2 - idx >"
      ]
    },
    {
      "cell_type": "code",
      "metadata": {
        "colab": {
          "base_uri": "https://localhost:8080/"
        },
        "id": "SKm1mcQsh_PB",
        "outputId": "7e32abe4-8267-4a83-89ab-1c57dbd6867c"
      },
      "source": [
        "T = int(input())\n",
        "\n",
        "number = {\n",
        "    \"0\": \"zero\",\n",
        "    \"1\": \"one\",\n",
        "    \"2\": \"two\",\n",
        "    \"3\": \"three\",\n",
        "    \"4\": \"four\",\n",
        "    \"5\": \"five\",\n",
        "    \"6\": \"six\",\n",
        "    \"7\": \"seven\",\n",
        "    \"8\": \"eight\",\n",
        "    \"9\": \"nine\"\n",
        "}\n",
        "\n",
        "tup = {\n",
        "    2: \"double\",\n",
        "    3: \"triple\",\n",
        "    4: \"quadruple\",\n",
        "    5: \"quintuple\",\n",
        "    6: \"sextuple\",\n",
        "    7: \"septuple\",\n",
        "    8: \"octuple\",\n",
        "    9: \"nonuple\",\n",
        "    10: \"decuple\"\n",
        "}\n",
        "\n",
        "for t in range(1, T+1):\n",
        "  A, B = input().split()\n",
        "  format = list(map(int, B.split(\"-\")))\n",
        "  phone = \"\"\n",
        "\n",
        "  idx = 0\n",
        "  n_con = 1\n",
        "  for i in range(len(format)):\n",
        "    j = 0\n",
        "    idx2 = idx\n",
        "    while (idx2 -idx < format[i]):\n",
        "      if idx2 < len(A)-1:\n",
        "        while (A[idx2] == A[idx2 + 1] and idx2 -idx < format[i]-1):\n",
        "          n_con +=1\n",
        "          idx2 +=1\n",
        "          if (idx2 >= len(A)-1):\n",
        "            break\n",
        "\n",
        "      if (n_con == 1):\n",
        "        phone += number[A[idx2]]\n",
        "        phone += \" \"\n",
        "      elif (n_con > 10):\n",
        "        for k in range(n_con):\n",
        "          phone += number[A[idx2]]\n",
        "          phone += \" \"\n",
        "      else:\n",
        "        phone += tup[n_con]\n",
        "        phone += \" \"\n",
        "        phone += number[A[idx2]]\n",
        "        phone += \" \"\n",
        "      \n",
        "      n_con = 1\n",
        "      idx2 +=1\n",
        "    \n",
        "    idx = idx2\n",
        "\n",
        "  print(\"Case #{}: {}\".format(t,phone))"
      ],
      "execution_count": null,
      "outputs": [
        {
          "output_type": "stream",
          "text": [
            "1\n",
            "1111111111123 12-1\n",
            "13\n",
            "Case #1: one one one one one one one one one one one two three \n"
          ],
          "name": "stdout"
        }
      ]
    },
    {
      "cell_type": "markdown",
      "metadata": {
        "id": "U2LlaLkVyIlX"
      },
      "source": [
        "# Rational Number Tree\n",
        "\n",
        "\n",
        "4\n",
        "\n",
        "1 2\n",
        "\n",
        "2 1 2\n",
        "\n",
        "1 5\n",
        "\n",
        "2 3 2"
      ]
    },
    {
      "cell_type": "code",
      "metadata": {
        "colab": {
          "background_save": true,
          "base_uri": "https://localhost:8080/"
        },
        "id": "fGUv_0YnjXoq",
        "outputId": "d711494a-3242-431c-e5c8-efc632bdb313"
      },
      "source": [
        "T = int(input())\n",
        "\n",
        "for t in range (1, T+1):\n",
        "  test = list(map(int, input().split()))\n",
        "\n",
        "  if test[0] == 1:\n",
        "    p = 1\n",
        "    q = 1\n",
        "    bin_n = bin(test[1])[2:]\n",
        "    for i in range(1,len(bin_n)):\n",
        "      if int(bin_n[i]) == 0:\n",
        "        q = p + q\n",
        "      else:\n",
        "        p = p + q\n",
        "    result = str(p)+ \" \" + str(q)\n",
        "  else:\n",
        "    bin_n = \"\"\n",
        "    p = test[1]\n",
        "    q = test[2]\n",
        "    while (p != q):\n",
        "      if p < q:\n",
        "        bin_n += \"0\"\n",
        "        q = q-p\n",
        "      else:\n",
        "        bin_n += \"1\"\n",
        "        p = p-q\n",
        "\n",
        "    bin_n += \"1\"\n",
        "    \n",
        "    bin_n = bin_n[::-1]\n",
        "    print(bin_n)\n",
        "    result = str(int(bin_n, 2))\n",
        "\n",
        "\n",
        "  print(\"Case #{}: {}\".format(t, result))"
      ],
      "execution_count": null,
      "outputs": [
        {
          "output_type": "stream",
          "text": [
            "10\n",
            "Case #1: 2\n"
          ],
          "name": "stdout"
        }
      ]
    },
    {
      "cell_type": "code",
      "metadata": {
        "colab": {
          "base_uri": "https://localhost:8080/",
          "height": 37
        },
        "id": "TKiE5Zt20jJA",
        "outputId": "1733a461-e793-4701-f07d-3fb708b67ae7"
      },
      "source": [
        ""
      ],
      "execution_count": null,
      "outputs": [
        {
          "output_type": "execute_result",
          "data": {
            "application/vnd.google.colaboratory.intrinsic+json": {
              "type": "string"
            },
            "text/plain": [
              "'10'"
            ]
          },
          "metadata": {
            "tags": []
          },
          "execution_count": 95
        }
      ]
    }
  ]
}